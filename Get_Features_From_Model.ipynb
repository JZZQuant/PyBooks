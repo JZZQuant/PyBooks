{
 "cells": [
  {
   "cell_type": "code",
   "execution_count": null,
   "metadata": {
    "collapsed": false
   },
   "outputs": [],
   "source": [
    "import sys\n",
    "sys.path.append(\"/home/fermat/workspace/blackbolt/classifier/\")\n",
    "from classifier.ClassifierModel import ClassifierModel"
   ]
  },
  {
   "cell_type": "code",
   "execution_count": null,
   "metadata": {
    "collapsed": false
   },
   "outputs": [],
   "source": [
    "\n",
    "from sklearn.externals import joblib\n",
    "model = joblib.load('/home/fermat/workspace/s3/models/full/taxonomy_classifier.pkl')\n",
    "model.load_predictors('/home/fermat/workspace/s3/models/full',\n",
    "                     '/home/fermat/workspace/s3/models/clothing/clothing_sub_category_model.pkl')\n",
    "\n",
    "classifier_model = ClassifierModel(model)"
   ]
  },
  {
   "cell_type": "code",
   "execution_count": null,
   "metadata": {
    "collapsed": false
   },
   "outputs": [],
   "source": [
    "def getUnigramcount(mylist):\n",
    "    return len([feature for feature in mylist if len(feature.split(\" \"))==1])\n",
    "\n",
    "level=[\"toplevel\"]+[key for key,value in sorted(classifier_model.taxonomy_model.tx_predictors['0'].labels_index.items())]\n",
    "feature_count=[getUnigramcount(predictor[1].vectorizer.get_feature_names()) for predictor in sorted(classifier_model.taxonomy_model.tx_predictors.items())]\n",
    "df=pd.DataFrame({\"Level\":level,\"Count\":feature_count})"
   ]
  },
  {
   "cell_type": "code",
   "execution_count": null,
   "metadata": {
    "collapsed": false
   },
   "outputs": [],
   "source": []
  },
  {
   "cell_type": "code",
   "execution_count": null,
   "metadata": {
    "collapsed": false
   },
   "outputs": [],
   "source": []
  },
  {
   "cell_type": "code",
   "execution_count": null,
   "metadata": {
    "collapsed": false
   },
   "outputs": [],
   "source": []
  },
  {
   "cell_type": "code",
   "execution_count": null,
   "metadata": {
    "collapsed": true
   },
   "outputs": [],
   "source": []
  }
 ],
 "metadata": {
  "anaconda-cloud": {},
  "kernelspec": {
   "display_name": "Python [conda root]",
   "language": "python",
   "name": "conda-root-py"
  },
  "language_info": {
   "codemirror_mode": {
    "name": "ipython",
    "version": 2
   },
   "file_extension": ".py",
   "mimetype": "text/x-python",
   "name": "python",
   "nbconvert_exporter": "python",
   "pygments_lexer": "ipython2",
   "version": "2.7.12"
  }
 },
 "nbformat": 4,
 "nbformat_minor": 1
}
