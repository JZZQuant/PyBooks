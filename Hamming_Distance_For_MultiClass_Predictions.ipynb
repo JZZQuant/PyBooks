{
 "cells": [
  {
   "cell_type": "code",
   "execution_count": 1,
   "metadata": {
    "collapsed": false
   },
   "outputs": [],
   "source": [
    "import pandas as pd\n",
    "import numpy as np\n",
    "domains=pd.read_csv(\"/home/fermat/dav/metadata_with_tokens.csv\")\n",
    "domains=domains.replace(np.nan,' ', regex=True)"
   ]
  },
  {
   "cell_type": "code",
   "execution_count": 2,
   "metadata": {
    "collapsed": false
   },
   "outputs": [
    {
     "ename": "ImportError",
     "evalue": "cannot import name NaiveSuggester",
     "output_type": "error",
     "traceback": [
      "\u001b[0;31m---------------------------------------------------------------------------\u001b[0m",
      "\u001b[0;31mImportError\u001b[0m                               Traceback (most recent call last)",
      "\u001b[0;32m<ipython-input-2-5740f3dd526c>\u001b[0m in \u001b[0;36m<module>\u001b[0;34m()\u001b[0m\n\u001b[1;32m     17\u001b[0m \u001b[0;34m\u001b[0m\u001b[0m\n\u001b[1;32m     18\u001b[0m \u001b[0;32mimport\u001b[0m \u001b[0mos\u001b[0m\u001b[0;34m\u001b[0m\u001b[0m\n\u001b[0;32m---> 19\u001b[0;31m \u001b[0;32mfrom\u001b[0m \u001b[0mTopLevelSuggester\u001b[0m \u001b[0;32mimport\u001b[0m \u001b[0mCategorySuggester\u001b[0m\u001b[0;34m,\u001b[0m\u001b[0mAbstractionPathSuggester\u001b[0m \u001b[0;34m,\u001b[0m\u001b[0mNaiveSuggester\u001b[0m\u001b[0;34m\u001b[0m\u001b[0m\n\u001b[0m",
      "\u001b[0;31mImportError\u001b[0m: cannot import name NaiveSuggester"
     ]
    }
   ],
   "source": [
    "import pandas as pd\n",
    "import re\n",
    "import requests\n",
    "from bs4 import BeautifulSoup\n",
    "from requests.exceptions import ConnectionError\n",
    "\n",
    "requests.packages.urllib3.disable_warnings()\n",
    "from datetime import datetime\n",
    "import csv\n",
    "import sys\n",
    "import logging\n",
    "import time\n",
    "\n",
    "import sys\n",
    "sys.path.append(\"/home/fermat/workspace/blackbolt/classifier/classifier/\")\n",
    "from ClassifierModel import ClassifierModel, CategoriesEndpoint, Store2CategoriesMapping\n",
    "\n",
    "import os\n",
    "from TopLevelSuggester import CategorySuggester,AbstractionPathSuggester ,NaiveSuggester"
   ]
  },
  {
   "cell_type": "code",
   "execution_count": 3,
   "metadata": {
    "collapsed": false
   },
   "outputs": [
    {
     "name": "stderr",
     "output_type": "stream",
     "text": [
      "2016-11-24 10:54:09,836 INFO Loading all categories from http://metadata-service.staging-mr.indix.tv:8082/category/all \n",
      "2016-11-24 10:54:33,144 INFO Loaded 10740 categories mapping\n"
     ]
    }
   ],
   "source": [
    "categories_endpoint = 'http://metadata-service.staging-mr.indix.tv:8082/category/all'\n",
    "categories_provider = CategoriesEndpoint(categories_endpoint)\n",
    "categories_provider.get_all_categories()\n",
    "all_categories = categories_provider.categories\n",
    "suggester = AbstractionPathSuggester(all_categories)\n",
    "#ns=NaiveSuggester(all_categories)"
   ]
  },
  {
   "cell_type": "code",
   "execution_count": 4,
   "metadata": {
    "collapsed": false
   },
   "outputs": [],
   "source": [
    "domains[\"tokens\"]=domains.domainName.apply(lambda x: [token for token in suggester.vocabulary if token in x ])\n",
    "\n",
    "domains[\"bag\"]=domains.ix[:,1:-1].apply(lambda x: re.sub(r'[^\\x00-\\x7F]+',' ',' '.join(x)), axis=1)\n",
    "domains[\"categories\"]=domains.bag.apply(lambda x :  ns.suggest_categories(x,threshold=0.80))\n",
    "del domains[\"Unnamed: 7\"]\n",
    "\n",
    "spotcheck=domains.ix[:,[\"domainName\",\"categories\"]]\n",
    "spotcheck[\"domainName\"]=spotcheck.domainName.apply(lambda x: \"https://\"+ x if x.startswith(\"www\") else \"https://www.\"+ x)\n",
    "spotcheck=spotcheck.drop_duplicates(subset=[\"domainName\"]).dropna()\n",
    "\n",
    "spotcheck[\"categorypath1\"]=spotcheck.categories.apply(lambda x: [categories_provider.get_top_category_mapping()[t] for t in x ])\n",
    "\n",
    "spotcheck=spotcheck[spotcheck.categorypath1.apply(lambda x: len(x)>0 and len(x)<8)]\n",
    "\n",
    "l=spotcheck.apply(lambda x: pd.DataFrame(data = {'categorypath2': x.categorypath1, 'domainName': x.domainName}).to_dict(orient=\"records\"),axis=1)\n",
    "flat_frame=[item for sublist in l for item in sublist]\n",
    "\n",
    "df=pd.DataFrame.from_dict(flat_frame)\n",
    "\n",
    "df=df.replace(np.nan,' ', regex=True)\n",
    "df[\"url\"]=df.domainName\n",
    "#df[\"url\"]=df.url.apply(lambda x: \"https://\"+ x if x.startswith(\"www\") else \"https://www.\"+ x)\n",
    "df[\"categorypath1\"]=df.apply(lambda x: x.url[8:] + \" > \" + x.categorypath2 ,axis=1)\n",
    "df[\"title\"]=\"None\"\n",
    "df[\"breadcrumb\"]=df.categorypath2\n",
    "del df[\"domainName\"]\n",
    "df=df.ix[:,[\"url\",\"title\",\"categorypath1\"]]\n",
    "df[\"domain\"]=df.url.str[8:]\n",
    "df.domain=df.domain.str.replace(\"www.\",\"\").apply(lambda x: \".\".join(x.split(\".\")[:-1]))\n",
    "#df.to_json(\"spotcheck.json\",orient=\"records\")"
   ]
  },
  {
   "cell_type": "code",
   "execution_count": 5,
   "metadata": {
    "collapsed": false
   },
   "outputs": [],
   "source": [
    "wasp=pd.read_json(\"toplevel.txt\",orient=\"index\")\n",
    "wasp.urls=wasp.urls.apply(lambda x: (list(set([\"www.\"+ url for url in x if not url.startswith(\"www\")])) or [\"\"])[0] )\n",
    "wasp=wasp[wasp.apply(lambda x: len(x.categories)>0 and len(x.urls)>0,axis=1)]\n",
    "wasp[\"categories\"]=wasp.categories.apply(lambda x: [categories_provider.get_top_category_mapping()[t] for t in x ])"
   ]
  },
  {
   "cell_type": "code",
   "execution_count": 6,
   "metadata": {
    "collapsed": false
   },
   "outputs": [],
   "source": [
    "#wasp data testing\n",
    "del spotcheck[\"categories\"]\n",
    "spotcheck[\"key\"]=spotcheck.domainName.str.replace(\"www.\",\"\").apply(lambda x: \".\".join(x.split(\".\")[:-1]))\n",
    "spotcheck[\"key\"]=spotcheck[\"key\"].str[8:]\n",
    "wasp[\"key\"]=wasp.urls.str.replace(\"www.\",\"\").apply(lambda x: \".\".join(x.split(\".\")[:-1]))\n",
    "test=wasp.merge(spotcheck, on=\"key\", how='left')\n",
    "test[\"actual\"]=test.categories\n",
    "test[\"predicted\"]=test.categorypath1\n",
    "del test[\"categories\"],test[\"key\"],test[\"domainName\"],test[\"categorypath1\"]\n",
    "test=test.drop_duplicates(subset=[\"urls\"]).dropna()\n",
    "test.to_json(\"wasp_check.json\",orient=\"records\")"
   ]
  },
  {
   "cell_type": "code",
   "execution_count": 38,
   "metadata": {
    "collapsed": false
   },
   "outputs": [],
   "source": [
    "wasp_dom=wasp.key.unique()\n",
    "notwasp=df[df.domain.apply(lambda x: x not in wasp_dom)]\n",
    "del notwasp[\"domain\"]\n",
    "notwasp.to_json(\"spotcheck.json\",orient=\"records\")"
   ]
  },
  {
   "cell_type": "code",
   "execution_count": null,
   "metadata": {
    "collapsed": false
   },
   "outputs": [],
   "source": [
    "from sklearn.preprocessing import LabelBinarizer\n",
    "from sklearn.preprocessing import MultiLabelBinarizer\n",
    "mlb=MultiLabelBinarizer()\n",
    "\n",
    "import itertools\n",
    "t=list(set(list(itertools.chain.from_iterable(test.actual))))\n",
    "\n",
    "mlb.classes=t\n",
    "predicted=mlb.fit_transform(test.predicted) \n",
    "actual=mlb.fit_transform(test.actual)\n",
    "\n",
    "from sklearn.metrics import precision_recall_fscore_support\n",
    "from sklearn.metrics import hamming_loss\n"
   ]
  },
  {
   "cell_type": "code",
   "execution_count": 39,
   "metadata": {
    "collapsed": false
   },
   "outputs": [
    {
     "data": {
      "text/plain": [
       "0.14384435029410556"
      ]
     },
     "execution_count": 39,
     "metadata": {},
     "output_type": "execute_result"
    }
   ],
   "source": [
    "hamming_loss(actual,predicted)"
   ]
  },
  {
   "cell_type": "code",
   "execution_count": null,
   "metadata": {
    "collapsed": false
   },
   "outputs": [],
   "source": []
  },
  {
   "cell_type": "code",
   "execution_count": 29,
   "metadata": {
    "collapsed": false
   },
   "outputs": [],
   "source": []
  },
  {
   "cell_type": "code",
   "execution_count": 6,
   "metadata": {
    "collapsed": false
   },
   "outputs": [
    {
     "name": "stderr",
     "output_type": "stream",
     "text": [
      "2016-11-24 10:57:48,574 INFO Starting new HTTP connection (1): wasp.production.indix.tv\n"
     ]
    }
   ],
   "source": [
    "wasp_endpoint = os.getenv('WASP_ENDPOINT',\n",
    "                          'http://wasp.production.indix.tv:9000/configuration?path=production.towncenter.stores.*.{categories,urls}')\n",
    "store_to_category_mapping = Store2CategoriesMapping(wasp_endpoint)\n",
    "store_categories = set()\n",
    "store_category_ids = set(store_to_category_mapping.get_categories(\"http://www.villeroy-boch.com/shop/toy-s-delight-box-large-20cm.html\"))\n",
    "store_category_ids.update(suggester.suggest_categories(doc=\"Toy's Delight Large Covered Box 7.75 in\" + ' ' + \"Tabletop & Decor / Dinnerware / Bowls / Decorative Bowls / Toy's Delight Large Covered Box 7.75 insudo apt-get install winusb\n"
   ]
  },
  {
   "cell_type": "code",
   "execution_count": 7,
   "metadata": {
    "collapsed": false
   },
   "outputs": [
    {
     "data": {
      "text/plain": [
       "{10164, 10168, 10169}"
      ]
     },
     "execution_count": 7,
     "metadata": {},
     "output_type": "execute_result"
    }
   ],
   "source": [
    "store_category_ids"
   ]
  },
  {
   "cell_type": "code",
   "execution_count": 10,
   "metadata": {
    "collapsed": false
   },
   "outputs": [
    {
     "data": {
      "text/plain": [
       "{10161: 'computers & accessories',\n",
       " 10162: 'sports & outdoors',\n",
       " 10163: 'automotive',\n",
       " 10164: 'home & kitchen',\n",
       " 10165: 'office products',\n",
       " 10166: 'clothing & accessories',\n",
       " 10167: 'tools & home improvement',\n",
       " 10168: 'electronics',\n",
       " 10169: 'jewelry',\n",
       " 10170: 'health & personal care',\n",
       " 10171: 'grocery & gourmet food',\n",
       " 10172: 'toys & games',\n",
       " 10173: 'arts, crafts & sewing',\n",
       " 10174: 'baby products',\n",
       " 10175: 'musical instruments',\n",
       " 10176: 'patio, lawn & garden',\n",
       " 10177: 'pet supplies',\n",
       " 10178: 'industrial & scientific',\n",
       " 10179: 'shoes',\n",
       " 10180: 'furniture',\n",
       " 10181: 'video games',\n",
       " 10182: 'software',\n",
       " 27723: 'media',\n",
       " 99999: 'additional'}"
      ]
     },
     "execution_count": 10,
     "metadata": {},
     "output_type": "execute_result"
    }
   ],
   "source": [
    "categories_provider.get_top_category_mapping()"
   ]
  },
  {
   "cell_type": "code",
   "execution_count": null,
   "metadata": {
    "collapsed": true
   },
   "outputs": [],
   "source": []
  }
 ],
 "metadata": {
  "anaconda-cloud": {},
  "kernelspec": {
   "display_name": "Python [conda root]",
   "language": "python",
   "name": "conda-root-py"
  },
  "language_info": {
   "codemirror_mode": {
    "name": "ipython",
    "version": 2
   },
   "file_extension": ".py",
   "mimetype": "text/x-python",
   "name": "python",
   "nbconvert_exporter": "python",
   "pygments_lexer": "ipython2",
   "version": "2.7.12"
  }
 },
 "nbformat": 4,
 "nbformat_minor": 1
}
