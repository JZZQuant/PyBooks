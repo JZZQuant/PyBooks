{
 "cells": [
  {
   "cell_type": "code",
   "execution_count": 1,
   "metadata": {
    "collapsed": true
   },
   "outputs": [],
   "source": [
    "import pandas as pd\n",
    "from glob import glob\n",
    "import numpy as np"
   ]
  },
  {
   "cell_type": "code",
   "execution_count": 2,
   "metadata": {
    "collapsed": true
   },
   "outputs": [],
   "source": [
    "%matplotlib inline\n",
    "import matplotlib\n",
    "import matplotlib.pyplot as plt"
   ]
  },
  {
   "cell_type": "code",
   "execution_count": 3,
   "metadata": {
    "collapsed": false
   },
   "outputs": [],
   "source": [
    "def prepare_data(pattern):\n",
    "    data=pd.DataFrame.from_records(pd.concat([pd.read_json(file,orient=\"records\") for file in glob(pattern)]).task.tolist())\n",
    "    data_task=pd.DataFrame.from_records(pd.concat([pd.read_json(file,orient=\"records\") for file in glob(pattern)]).taskRuns.apply(lambda x: x[0] if x else {}).tolist())\n",
    "    answers = pd.DataFrame.from_records(data_task.answer.fillna(0).apply( lambda answer: { entry['name']:entry['value'] for entry in answer} if answer else {}))\n",
    "    answers.columns=answers.columns+\"_ans\"\n",
    "    data_merged = pd.concat([data,data_task,answers],axis=1) \n",
    "    return data_merged"
   ]
  },
  {
   "cell_type": "code",
   "execution_count": 4,
   "metadata": {
    "collapsed": false
   },
   "outputs": [],
   "source": [
    "start_data = prepare_data(\"old/*.json\")\n",
    "ebates_data = prepare_data(\"ebates/*.json\")"
   ]
  },
  {
   "cell_type": "code",
   "execution_count": 5,
   "metadata": {
    "collapsed": false
   },
   "outputs": [],
   "source": [
    "columns = start_data.columns.intersection(ebates_data.columns).unique()\n",
    "all_merged = pd.concat([start_data[columns],ebates_data.ix[:,columns]])\n",
    "all_merged = all_merged.sort_values(by=['productUrl','finish_time'],ascending=False)\n",
    "all_merged.drop_duplicates(subset=\"productUrl\",keep=\"first\",inplace=True)\n",
    "all_merged[\"TopLevel\"]=all_merged.categoryNamePath.apply(lambda x: x.split(\">\")[0])"
   ]
  },
  {
   "cell_type": "code",
   "execution_count": null,
   "metadata": {
    "collapsed": false
   },
   "outputs": [],
   "source": []
  },
  {
   "cell_type": "code",
   "execution_count": null,
   "metadata": {
    "collapsed": false
   },
   "outputs": [],
   "source": []
  },
  {
   "cell_type": "code",
   "execution_count": null,
   "metadata": {
    "collapsed": true
   },
   "outputs": [],
   "source": []
  }
 ],
 "metadata": {
  "anaconda-cloud": {},
  "kernelspec": {
   "display_name": "Python [conda root]",
   "language": "python",
   "name": "conda-root-py"
  },
  "language_info": {
   "codemirror_mode": {
    "name": "ipython",
    "version": 2
   },
   "file_extension": ".py",
   "mimetype": "text/x-python",
   "name": "python",
   "nbconvert_exporter": "python",
   "pygments_lexer": "ipython2",
   "version": "2.7.12"
  }
 },
 "nbformat": 4,
 "nbformat_minor": 1
}
