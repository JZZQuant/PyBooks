{
 "cells": [
  {
   "cell_type": "code",
   "execution_count": null,
   "metadata": {
    "collapsed": false
   },
   "outputs": [],
   "source": [
    "import pandas as pd\n",
    "import numpy as np \n",
    "import itertools\n",
    "from sklearn.feature_extraction.text import CountVectorizer\n",
    "from sklearn import linear_model\n",
    "from sklearn import cross_validation\n",
    "from sklearn.datasets import make_multilabel_classification\n",
    "from sklearn.multiclass import OneVsRestClassifier\n",
    "from sklearn.multioutput import MultiOutputClassifier\n",
    "from sklearn.svm import SVC\n",
    "from sklearn.preprocessing import LabelBinarizer\n",
    "from sklearn.preprocessing import MultiLabelBinarizer\n",
    "from sklearn.decomposition import PCA\n",
    "from sklearn.cross_decomposition import CCA\n",
    "from sklearn.externals import joblib\n",
    "from sklearn.naive_bayes import MultinomialNB\n",
    "from sklearn.pipeline import Pipeline\n",
    "from sklearn import cross_validation"
   ]
  },
  {
   "cell_type": "code",
   "execution_count": null,
   "metadata": {
    "collapsed": false
   },
   "outputs": [],
   "source": [
    "mapping=pd.read_csv(\"train/cat_amazon_map.tsv\",sep='\\t',names=[\"unmapped\",\"mapped\"])\n",
    "pd.options.display.max_colwidth=50"
   ]
  },
  {
   "cell_type": "code",
   "execution_count": null,
   "metadata": {
    "collapsed": false,
    "scrolled": true
   },
   "outputs": [],
   "source": [
    "brand_dfs=[]\n",
    "for chunk in pd.read_csv(\"train/amazon_train.csv\",chunksize=10000):\n",
    "    chunk[\"top\"]=chunk.breadCrumbs.str.lower().apply(lambda l: l.split(\">\")[0].replace(\"-\",\" \").rstrip())\n",
    "    df=chunk.merge(mapping,how=\"inner\",left_on=\"top\",right_on=\"unmapped\").ix[:,[\"brandText\",\"mapped\"]]\n",
    "    brand_dfs.append(df)\n",
    "\n",
    "brand_df=pd.concat(brand_dfs)\n",
    "del brand_dfs\n",
    "brand_df['brandText']=brand_df.brandText.str.lower()\n",
    "\n",
    "#brand_space=brand_df.groupby('brandText')['mapped'].apply(lambda l:list(set(list(l))))\n",
    "vect=CountVectorizer(stop_words='english',lowercase=True)\n",
    "from sklearn.model_selection import train_test_split\n",
    "X_train, X_test, y_train, y_test = train_test_split(brand_df.brandText, brand_df.mapped, test_size=0.1, random_state=0)"
   ]
  },
  {
   "cell_type": "code",
   "execution_count": null,
   "metadata": {
    "collapsed": false
   },
   "outputs": [],
   "source": [
    "X=vect.fit_transform(X_train.replace(np.nan,\"\"))\n",
    "mlb=MultiLabelBinarizer()\n",
    "y=mlb.fit_transform(y_train)\n",
    "del brand_space\n",
    "del brand_df\n",
    "\n",
    "classif = OneVsRestClassifier(linear_model.LogisticRegression(fit_intercept=False))\n",
    "ovr=classif.fit(X, y)\n",
    "classif.classes_=mlb.classes_\n",
    "\n",
    "brand_classifier = Pipeline([('output_transform', mlb),('input_transform',vect),('classifier', classif)])\n",
    "#joblib.dump(brand_classifier,'brand_toplevel_classifier.pkl')"
   ]
  },
  {
   "cell_type": "code",
   "execution_count": null,
   "metadata": {
    "collapsed": false
   },
   "outputs": [],
   "source": [
    "y_hat=X_test.to_series().apply(lambda x:[i for i,j in zip(mlb.classes_, classif.predict_proba(vect.transform([x.lower()]))[0]) if j>0.4][:8])"
   ]
  },
  {
   "cell_type": "code",
   "execution_count": null,
   "metadata": {
    "collapsed": false
   },
   "outputs": [],
   "source": [
    "joblib.dump(brand_classifier,'brand_toplevel_classifier_row.pkl')"
   ]
  },
  {
   "cell_type": "code",
   "execution_count": null,
   "metadata": {
    "collapsed": true
   },
   "outputs": [],
   "source": []
  }
 ],
 "metadata": {
  "anaconda-cloud": {},
  "kernelspec": {
   "display_name": "Python [conda root]",
   "language": "python",
   "name": "conda-root-py"
  },
  "language_info": {
   "codemirror_mode": {
    "name": "ipython",
    "version": 2
   },
   "file_extension": ".py",
   "mimetype": "text/x-python",
   "name": "python",
   "nbconvert_exporter": "python",
   "pygments_lexer": "ipython2",
   "version": "2.7.12"
  }
 },
 "nbformat": 4,
 "nbformat_minor": 1
}
