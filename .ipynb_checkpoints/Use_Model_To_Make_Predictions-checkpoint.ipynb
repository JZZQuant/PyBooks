{
 "cells": [
  {
   "cell_type": "code",
   "execution_count": null,
   "metadata": {
    "collapsed": false,
    "scrolled": true
   },
   "outputs": [],
   "source": [
    "import pandas as pd\n",
    "import sys\n",
    "\n",
    "def to_unicode_or_bust(\n",
    "        obj, encoding='utf-8'):\n",
    "    if isinstance(obj, basestring):\n",
    "        if not isinstance(obj, unicode):\n",
    "            obj = unicode(obj, encoding, errors='replace')\n",
    "            obj = obj.replace(u'\\ufffd', ' ')\n",
    "    if type(obj)==float:\n",
    "        return \"\"\n",
    "    return obj\n",
    "\n",
    "def  trial(title,breadCrumbs,predictions):\n",
    "     if predictions:\n",
    "        cat =[y.lower().strip() for y in predictions]\n",
    "     else :\n",
    "        cat =None\n",
    "     try:\n",
    "        return classifier_model.predict(to_unicode_or_bust(title), to_unicode_or_bust(breadCrumbs), categories=cat).__dict__['raw_category']\n",
    "     except :\n",
    "        return None\n",
    "\n",
    "def trial2(title,breadCrumbs):\n",
    "    try:\n",
    "        return classifier_model.predict(to_unicode_or_bust(title), to_unicode_or_bust(breadCrumbs)).__dict__['raw_category']\n",
    "    except :\n",
    "        return None\n",
    "    \n",
    "#test=pd.read_csv(\"test/spotcheckdata.csv\")\n",
    "model = joblib.load('/home/fermat/workspace/s3/models/full/taxonomy_classifier.pkl')\n",
    "model.load_predictors('/home/fermat/workspace/s3/models/full',\n",
    "                     '/home/fermat/workspace/s3/models/clothing/clothing_sub_category_model.pkl')\n",
    "\n",
    "pipeline=joblib.load(\"model/brand_toplevel_classifier.pkl\")\n",
    "classif=pipeline.steps[2][1]\n",
    "vect=pipeline.steps[1][1]\n",
    "mlb=pipeline.steps[0][1]"
   ]
  },
  {
   "cell_type": "code",
   "execution_count": null,
   "metadata": {
    "collapsed": false
   },
   "outputs": [],
   "source": [
    "classifier_model = ClassifierModel(model)\n",
    "test=pd.read_csv(\"test/spotcheck-dist-latest.tsv\",sep=\"\\t\",encoding=\"utf8\")\n",
    "test=test.replace(np.nan,\"\")\n",
    "spotcheck=test.ix[:,[\"url\",\"breadCrumbs\",\"title\",\"old_top\",\"new_top\"]]\n",
    "spotcheck.question=\"What is correct top level category for the following product?\"\n",
    "spotcheck.columns=[\"url\",\"breadcrumb\",\"title\",\"categorypath1\",\"categorypath2\"]"
   ]
  },
  {
   "cell_type": "code",
   "execution_count": null,
   "metadata": {
    "collapsed": false
   },
   "outputs": [],
   "source": [
    "pipeline=joblib.load(\"brand_toplevel_classifier.pkl\")\n",
    "classif=pipeline.steps[2][1]\n",
    "vect=pipeline.steps[1][1]\n",
    "mlb=pipeline.steps[0][1]\n",
    "\n",
    "recs = []\n",
    "import codecs\n",
    "for line in codecs.open('test/Cosmos_Sample_Data_7.json',encoding='utf8'):\n",
    "   recs.append(json.loads(line))\n",
    "sample_df = pd.DataFrame(recs)\n",
    "sample_df[\"top\"]=sample_df[\"categoryNamePath\"].apply(lambda x: x.split('>')[0].rstrip())"
   ]
  },
  {
   "cell_type": "code",
   "execution_count": null,
   "metadata": {
    "collapsed": false
   },
   "outputs": [],
   "source": [
    "#test model and get top 7 predicitons\n",
    "mlb.classes_[classif.predict_proba(vect.transform([u'apple orange fruit vegetables'])).argsort()[0][-7:]]"
   ]
  },
  {
   "cell_type": "code",
   "execution_count": null,
   "metadata": {
    "collapsed": false
   },
   "outputs": [],
   "source": [
    "accuracy=[]\n",
    "for i in range(-12,0):\n",
    "    sample_df[\"predictions\"]=sample_df.brandText.apply(lambda x: mlb.classes_[classif.predict_proba(vect.transform([x])).argsort()[0][i:]])\n",
    "    accuracy.append(sum(sample_df[sample_df.brandText.apply(lambda x: len(x)>7)].apply(lambda x: x.top in x.predictions,axis=1)))\n"
   ]
  },
  {
   "cell_type": "code",
   "execution_count": null,
   "metadata": {
    "collapsed": false
   },
   "outputs": [],
   "source": [
    "test.predictions=test.replace(np.nan,\"\").brandText.apply(lambda x:[i for i,j in zip(mlb.classes_, classif.predict_proba(vect.transform([x.lower()]))[0]) if j>0.90][:8])"
   ]
  },
  {
   "cell_type": "code",
   "execution_count": null,
   "metadata": {
    "collapsed": false,
    "scrolled": true
   },
   "outputs": [],
   "source": [
    "spot[\"brand_category\"]=spot.apply(lambda x: trial(x.title,x.breadcrumb,x.predictions) ,axis=1)\n"
   ]
  },
  {
   "cell_type": "code",
   "execution_count": null,
   "metadata": {
    "collapsed": true
   },
   "outputs": [],
   "source": []
  }
 ],
 "metadata": {
  "anaconda-cloud": {},
  "kernelspec": {
   "display_name": "Python [conda root]",
   "language": "python",
   "name": "conda-root-py"
  },
  "language_info": {
   "codemirror_mode": {
    "name": "ipython",
    "version": 2
   },
   "file_extension": ".py",
   "mimetype": "text/x-python",
   "name": "python",
   "nbconvert_exporter": "python",
   "pygments_lexer": "ipython2",
   "version": "2.7.12"
  }
 },
 "nbformat": 4,
 "nbformat_minor": 1
}
